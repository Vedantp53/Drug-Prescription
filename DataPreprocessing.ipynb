{
  "cells": [
    {
      "cell_type": "code",
      "execution_count": 1,
      "metadata": {
        "id": "9oCQFCCLI1T6"
      },
      "outputs": [],
      "source": [
        "import numpy as np\n",
        "import pandas as pd\n",
        "import matplotlib.pyplot as plt\n",
        "from sklearn.preprocessing import StandardScaler\n",
        "from sklearn.model_selection import train_test_split\n",
        "import re\n",
        "import nltk\n",
        "from nltk.corpus import stopwords\n",
        "from nltk.stem.porter import PorterStemmer\n",
        "from sklearn.feature_extraction.text import TfidfVectorizer"
      ]
    },
    {
      "cell_type": "markdown",
      "metadata": {
        "id": "7kwhlJ7URC4J"
      },
      "source": [
        "## Data Collection and Preprocessing"
      ]
    },
    {
      "cell_type": "code",
      "execution_count": 2,
      "metadata": {
        "id": "rUWmFIZLJKth"
      },
      "outputs": [],
      "source": [
        "df = pd.read_csv(r\"C:\\Users\\ASUS\\OneDrive\\Desktop\\LTTS\\New folder\\medipin website\\medical_website-main\\drugs_side_effects_drugs_com.csv.xls\")"
      ]
    },
    {
      "cell_type": "code",
      "execution_count": 3,
      "metadata": {
        "colab": {
          "base_uri": "https://localhost:8080/",
          "height": 1000
        },
        "id": "pZsXpQlLNG5c",
        "outputId": "aaa411c1-1f5d-4659-bbca-bdd3a42ecbe6"
      },
      "outputs": [
        {
          "data": {
            "text/html": [
              "<div>\n",
              "<style scoped>\n",
              "    .dataframe tbody tr th:only-of-type {\n",
              "        vertical-align: middle;\n",
              "    }\n",
              "\n",
              "    .dataframe tbody tr th {\n",
              "        vertical-align: top;\n",
              "    }\n",
              "\n",
              "    .dataframe thead th {\n",
              "        text-align: right;\n",
              "    }\n",
              "</style>\n",
              "<table border=\"1\" class=\"dataframe\">\n",
              "  <thead>\n",
              "    <tr style=\"text-align: right;\">\n",
              "      <th></th>\n",
              "      <th>drug_name</th>\n",
              "      <th>medical_condition</th>\n",
              "      <th>side_effects</th>\n",
              "      <th>generic_name</th>\n",
              "      <th>drug_classes</th>\n",
              "      <th>brand_names</th>\n",
              "      <th>activity</th>\n",
              "      <th>rx_otc</th>\n",
              "      <th>pregnancy_category</th>\n",
              "      <th>csa</th>\n",
              "      <th>alcohol</th>\n",
              "      <th>related_drugs</th>\n",
              "      <th>medical_condition_description</th>\n",
              "      <th>rating</th>\n",
              "      <th>no_of_reviews</th>\n",
              "      <th>drug_link</th>\n",
              "      <th>medical_condition_url</th>\n",
              "    </tr>\n",
              "  </thead>\n",
              "  <tbody>\n",
              "    <tr>\n",
              "      <th>0</th>\n",
              "      <td>doxycycline</td>\n",
              "      <td>Acne</td>\n",
              "      <td>(hives, difficult breathing, swelling in your ...</td>\n",
              "      <td>doxycycline</td>\n",
              "      <td>Miscellaneous antimalarials, Tetracyclines</td>\n",
              "      <td>Acticlate, Adoxa CK, Adoxa Pak, Adoxa TT, Alod...</td>\n",
              "      <td>87%</td>\n",
              "      <td>Rx</td>\n",
              "      <td>D</td>\n",
              "      <td>N</td>\n",
              "      <td>X</td>\n",
              "      <td>amoxicillin: https://www.drugs.com/amoxicillin...</td>\n",
              "      <td>Acne Other names: Acne Vulgaris; Blackheads; B...</td>\n",
              "      <td>6.8</td>\n",
              "      <td>760</td>\n",
              "      <td>https://www.drugs.com/doxycycline.html</td>\n",
              "      <td>https://www.drugs.com/condition/acne.html</td>\n",
              "    </tr>\n",
              "    <tr>\n",
              "      <th>1</th>\n",
              "      <td>spironolactone</td>\n",
              "      <td>Acne</td>\n",
              "      <td>hives ; difficulty breathing; swelling of your...</td>\n",
              "      <td>spironolactone</td>\n",
              "      <td>Aldosterone receptor antagonists, Potassium-sp...</td>\n",
              "      <td>Aldactone, CaroSpir</td>\n",
              "      <td>82%</td>\n",
              "      <td>Rx</td>\n",
              "      <td>C</td>\n",
              "      <td>N</td>\n",
              "      <td>X</td>\n",
              "      <td>amlodipine: https://www.drugs.com/amlodipine.h...</td>\n",
              "      <td>Acne Other names: Acne Vulgaris; Blackheads; B...</td>\n",
              "      <td>7.2</td>\n",
              "      <td>449</td>\n",
              "      <td>https://www.drugs.com/spironolactone.html</td>\n",
              "      <td>https://www.drugs.com/condition/acne.html</td>\n",
              "    </tr>\n",
              "    <tr>\n",
              "      <th>2</th>\n",
              "      <td>minocycline</td>\n",
              "      <td>Acne</td>\n",
              "      <td>skin rash, fever, swollen glands, flu-like sym...</td>\n",
              "      <td>minocycline</td>\n",
              "      <td>Tetracyclines</td>\n",
              "      <td>Dynacin, Minocin, Minolira, Solodyn, Ximino, V...</td>\n",
              "      <td>48%</td>\n",
              "      <td>Rx</td>\n",
              "      <td>D</td>\n",
              "      <td>N</td>\n",
              "      <td>NaN</td>\n",
              "      <td>amoxicillin: https://www.drugs.com/amoxicillin...</td>\n",
              "      <td>Acne Other names: Acne Vulgaris; Blackheads; B...</td>\n",
              "      <td>5.7</td>\n",
              "      <td>482</td>\n",
              "      <td>https://www.drugs.com/minocycline.html</td>\n",
              "      <td>https://www.drugs.com/condition/acne.html</td>\n",
              "    </tr>\n",
              "    <tr>\n",
              "      <th>3</th>\n",
              "      <td>Accutane</td>\n",
              "      <td>Acne</td>\n",
              "      <td>problems with your vision or hearing; muscle o...</td>\n",
              "      <td>isotretinoin (oral)</td>\n",
              "      <td>Miscellaneous antineoplastics, Miscellaneous u...</td>\n",
              "      <td>NaN</td>\n",
              "      <td>41%</td>\n",
              "      <td>Rx</td>\n",
              "      <td>X</td>\n",
              "      <td>N</td>\n",
              "      <td>X</td>\n",
              "      <td>doxycycline: https://www.drugs.com/doxycycline...</td>\n",
              "      <td>Acne Other names: Acne Vulgaris; Blackheads; B...</td>\n",
              "      <td>7.9</td>\n",
              "      <td>623</td>\n",
              "      <td>https://www.drugs.com/accutane.html</td>\n",
              "      <td>https://www.drugs.com/condition/acne.html</td>\n",
              "    </tr>\n",
              "    <tr>\n",
              "      <th>4</th>\n",
              "      <td>clindamycin</td>\n",
              "      <td>Acne</td>\n",
              "      <td>hives ; difficult breathing; swelling of your ...</td>\n",
              "      <td>clindamycin topical</td>\n",
              "      <td>Topical acne agents, Vaginal anti-infectives</td>\n",
              "      <td>Cleocin T, Clindacin ETZ, Clindacin P, Clindag...</td>\n",
              "      <td>39%</td>\n",
              "      <td>Rx</td>\n",
              "      <td>B</td>\n",
              "      <td>N</td>\n",
              "      <td>NaN</td>\n",
              "      <td>doxycycline: https://www.drugs.com/doxycycline...</td>\n",
              "      <td>Acne Other names: Acne Vulgaris; Blackheads; B...</td>\n",
              "      <td>7.4</td>\n",
              "      <td>146</td>\n",
              "      <td>https://www.drugs.com/mtm/clindamycin-topical....</td>\n",
              "      <td>https://www.drugs.com/condition/acne.html</td>\n",
              "    </tr>\n",
              "    <tr>\n",
              "      <th>...</th>\n",
              "      <td>...</td>\n",
              "      <td>...</td>\n",
              "      <td>...</td>\n",
              "      <td>...</td>\n",
              "      <td>...</td>\n",
              "      <td>...</td>\n",
              "      <td>...</td>\n",
              "      <td>...</td>\n",
              "      <td>...</td>\n",
              "      <td>...</td>\n",
              "      <td>...</td>\n",
              "      <td>...</td>\n",
              "      <td>...</td>\n",
              "      <td>...</td>\n",
              "      <td>...</td>\n",
              "      <td>...</td>\n",
              "      <td>...</td>\n",
              "    </tr>\n",
              "    <tr>\n",
              "      <th>2961</th>\n",
              "      <td>benzphetamine</td>\n",
              "      <td>Weight Loss</td>\n",
              "      <td>hives ; difficulty breathing; swelling of your...</td>\n",
              "      <td>benzphetamine</td>\n",
              "      <td>Anorexiants, CNS stimulants</td>\n",
              "      <td>Didrex, Regimex</td>\n",
              "      <td>2%</td>\n",
              "      <td>Rx</td>\n",
              "      <td>X</td>\n",
              "      <td>3</td>\n",
              "      <td>X</td>\n",
              "      <td>phentermine: https://www.drugs.com/phentermine...</td>\n",
              "      <td>Weight Loss (Obesity/Overweight) More than hal...</td>\n",
              "      <td>7.5</td>\n",
              "      <td>17</td>\n",
              "      <td>https://www.drugs.com/mtm/benzphetamine.html</td>\n",
              "      <td>https://www.drugs.com/condition/obesity.html</td>\n",
              "    </tr>\n",
              "    <tr>\n",
              "      <th>2962</th>\n",
              "      <td>fenfluramine</td>\n",
              "      <td>Weight Loss</td>\n",
              "      <td>hives ; difficult breathing; swelling of your ...</td>\n",
              "      <td>fenfluramine</td>\n",
              "      <td>Anorexiants, CNS stimulants, Miscellaneous ant...</td>\n",
              "      <td>Fintepla</td>\n",
              "      <td>1%</td>\n",
              "      <td>Rx</td>\n",
              "      <td>C</td>\n",
              "      <td>4</td>\n",
              "      <td>X</td>\n",
              "      <td>NaN</td>\n",
              "      <td>Weight Loss (Obesity/Overweight) More than hal...</td>\n",
              "      <td>NaN</td>\n",
              "      <td>NaN</td>\n",
              "      <td>https://www.drugs.com/mtm/fenfluramine.html</td>\n",
              "      <td>https://www.drugs.com/condition/obesity.html</td>\n",
              "    </tr>\n",
              "    <tr>\n",
              "      <th>2963</th>\n",
              "      <td>Fendique ER</td>\n",
              "      <td>Weight Loss</td>\n",
              "      <td>NaN</td>\n",
              "      <td>phendimetrazine tartrate</td>\n",
              "      <td>Anorexiants, CNS stimulants</td>\n",
              "      <td>NaN</td>\n",
              "      <td>0%</td>\n",
              "      <td>Rx</td>\n",
              "      <td>C</td>\n",
              "      <td>3</td>\n",
              "      <td>X</td>\n",
              "      <td>phentermine: https://www.drugs.com/phentermine...</td>\n",
              "      <td>Weight Loss (Obesity/Overweight) More than hal...</td>\n",
              "      <td>NaN</td>\n",
              "      <td>NaN</td>\n",
              "      <td>https://www.drugs.com/pro/fendique-er.html</td>\n",
              "      <td>https://www.drugs.com/condition/obesity.html</td>\n",
              "    </tr>\n",
              "    <tr>\n",
              "      <th>2964</th>\n",
              "      <td>Imcivree</td>\n",
              "      <td>Weight Loss</td>\n",
              "      <td>Imcivree may cause serious side effects, inclu...</td>\n",
              "      <td>setmelanotide</td>\n",
              "      <td>Melanocortin receptor agonists</td>\n",
              "      <td>NaN</td>\n",
              "      <td>0%</td>\n",
              "      <td>Rx</td>\n",
              "      <td>NaN</td>\n",
              "      <td>N</td>\n",
              "      <td>NaN</td>\n",
              "      <td>phentermine: https://www.drugs.com/phentermine...</td>\n",
              "      <td>Weight Loss (Obesity/Overweight) More than hal...</td>\n",
              "      <td>NaN</td>\n",
              "      <td>NaN</td>\n",
              "      <td>https://www.drugs.com/imcivree.html</td>\n",
              "      <td>https://www.drugs.com/condition/obesity.html</td>\n",
              "    </tr>\n",
              "    <tr>\n",
              "      <th>2965</th>\n",
              "      <td>setmelanotide</td>\n",
              "      <td>Weight Loss</td>\n",
              "      <td>hives ; difficult breathing; swelling of your ...</td>\n",
              "      <td>setmelanotide</td>\n",
              "      <td>Melanocortin receptor agonists</td>\n",
              "      <td>Imcivree</td>\n",
              "      <td>0%</td>\n",
              "      <td>Rx</td>\n",
              "      <td>NaN</td>\n",
              "      <td>N</td>\n",
              "      <td>NaN</td>\n",
              "      <td>phentermine: https://www.drugs.com/phentermine...</td>\n",
              "      <td>Weight Loss (Obesity/Overweight) More than hal...</td>\n",
              "      <td>NaN</td>\n",
              "      <td>NaN</td>\n",
              "      <td>https://www.drugs.com/mtm/setmelanotide.html</td>\n",
              "      <td>https://www.drugs.com/condition/obesity.html</td>\n",
              "    </tr>\n",
              "  </tbody>\n",
              "</table>\n",
              "<p>2966 rows × 17 columns</p>\n",
              "</div>"
            ],
            "text/plain": [
              "           drug_name medical_condition  \\\n",
              "0        doxycycline              Acne   \n",
              "1     spironolactone              Acne   \n",
              "2        minocycline              Acne   \n",
              "3           Accutane              Acne   \n",
              "4        clindamycin              Acne   \n",
              "...              ...               ...   \n",
              "2961   benzphetamine       Weight Loss   \n",
              "2962    fenfluramine       Weight Loss   \n",
              "2963     Fendique ER       Weight Loss   \n",
              "2964        Imcivree       Weight Loss   \n",
              "2965   setmelanotide       Weight Loss   \n",
              "\n",
              "                                           side_effects  \\\n",
              "0     (hives, difficult breathing, swelling in your ...   \n",
              "1     hives ; difficulty breathing; swelling of your...   \n",
              "2     skin rash, fever, swollen glands, flu-like sym...   \n",
              "3     problems with your vision or hearing; muscle o...   \n",
              "4     hives ; difficult breathing; swelling of your ...   \n",
              "...                                                 ...   \n",
              "2961  hives ; difficulty breathing; swelling of your...   \n",
              "2962  hives ; difficult breathing; swelling of your ...   \n",
              "2963                                                NaN   \n",
              "2964  Imcivree may cause serious side effects, inclu...   \n",
              "2965  hives ; difficult breathing; swelling of your ...   \n",
              "\n",
              "                  generic_name  \\\n",
              "0                  doxycycline   \n",
              "1               spironolactone   \n",
              "2                  minocycline   \n",
              "3          isotretinoin (oral)   \n",
              "4          clindamycin topical   \n",
              "...                        ...   \n",
              "2961             benzphetamine   \n",
              "2962              fenfluramine   \n",
              "2963  phendimetrazine tartrate   \n",
              "2964             setmelanotide   \n",
              "2965             setmelanotide   \n",
              "\n",
              "                                           drug_classes  \\\n",
              "0            Miscellaneous antimalarials, Tetracyclines   \n",
              "1     Aldosterone receptor antagonists, Potassium-sp...   \n",
              "2                                         Tetracyclines   \n",
              "3     Miscellaneous antineoplastics, Miscellaneous u...   \n",
              "4          Topical acne agents, Vaginal anti-infectives   \n",
              "...                                                 ...   \n",
              "2961                        Anorexiants, CNS stimulants   \n",
              "2962  Anorexiants, CNS stimulants, Miscellaneous ant...   \n",
              "2963                        Anorexiants, CNS stimulants   \n",
              "2964                     Melanocortin receptor agonists   \n",
              "2965                     Melanocortin receptor agonists   \n",
              "\n",
              "                                            brand_names activity rx_otc  \\\n",
              "0     Acticlate, Adoxa CK, Adoxa Pak, Adoxa TT, Alod...      87%     Rx   \n",
              "1                                   Aldactone, CaroSpir      82%     Rx   \n",
              "2     Dynacin, Minocin, Minolira, Solodyn, Ximino, V...      48%     Rx   \n",
              "3                                                   NaN      41%     Rx   \n",
              "4     Cleocin T, Clindacin ETZ, Clindacin P, Clindag...      39%     Rx   \n",
              "...                                                 ...      ...    ...   \n",
              "2961                                    Didrex, Regimex       2%     Rx   \n",
              "2962                                           Fintepla       1%     Rx   \n",
              "2963                                                NaN       0%     Rx   \n",
              "2964                                                NaN       0%     Rx   \n",
              "2965                                           Imcivree       0%     Rx   \n",
              "\n",
              "     pregnancy_category csa alcohol  \\\n",
              "0                     D   N       X   \n",
              "1                     C   N       X   \n",
              "2                     D   N     NaN   \n",
              "3                     X   N       X   \n",
              "4                     B   N     NaN   \n",
              "...                 ...  ..     ...   \n",
              "2961                  X   3       X   \n",
              "2962                  C   4       X   \n",
              "2963                  C   3       X   \n",
              "2964                NaN   N     NaN   \n",
              "2965                NaN   N     NaN   \n",
              "\n",
              "                                          related_drugs  \\\n",
              "0     amoxicillin: https://www.drugs.com/amoxicillin...   \n",
              "1     amlodipine: https://www.drugs.com/amlodipine.h...   \n",
              "2     amoxicillin: https://www.drugs.com/amoxicillin...   \n",
              "3     doxycycline: https://www.drugs.com/doxycycline...   \n",
              "4     doxycycline: https://www.drugs.com/doxycycline...   \n",
              "...                                                 ...   \n",
              "2961  phentermine: https://www.drugs.com/phentermine...   \n",
              "2962                                                NaN   \n",
              "2963  phentermine: https://www.drugs.com/phentermine...   \n",
              "2964  phentermine: https://www.drugs.com/phentermine...   \n",
              "2965  phentermine: https://www.drugs.com/phentermine...   \n",
              "\n",
              "                          medical_condition_description rating no_of_reviews  \\\n",
              "0     Acne Other names: Acne Vulgaris; Blackheads; B...    6.8           760   \n",
              "1     Acne Other names: Acne Vulgaris; Blackheads; B...    7.2           449   \n",
              "2     Acne Other names: Acne Vulgaris; Blackheads; B...    5.7           482   \n",
              "3     Acne Other names: Acne Vulgaris; Blackheads; B...    7.9           623   \n",
              "4     Acne Other names: Acne Vulgaris; Blackheads; B...    7.4           146   \n",
              "...                                                 ...    ...           ...   \n",
              "2961  Weight Loss (Obesity/Overweight) More than hal...    7.5            17   \n",
              "2962  Weight Loss (Obesity/Overweight) More than hal...    NaN           NaN   \n",
              "2963  Weight Loss (Obesity/Overweight) More than hal...    NaN           NaN   \n",
              "2964  Weight Loss (Obesity/Overweight) More than hal...    NaN           NaN   \n",
              "2965  Weight Loss (Obesity/Overweight) More than hal...    NaN           NaN   \n",
              "\n",
              "                                              drug_link  \\\n",
              "0                https://www.drugs.com/doxycycline.html   \n",
              "1             https://www.drugs.com/spironolactone.html   \n",
              "2                https://www.drugs.com/minocycline.html   \n",
              "3                   https://www.drugs.com/accutane.html   \n",
              "4     https://www.drugs.com/mtm/clindamycin-topical....   \n",
              "...                                                 ...   \n",
              "2961       https://www.drugs.com/mtm/benzphetamine.html   \n",
              "2962        https://www.drugs.com/mtm/fenfluramine.html   \n",
              "2963         https://www.drugs.com/pro/fendique-er.html   \n",
              "2964                https://www.drugs.com/imcivree.html   \n",
              "2965       https://www.drugs.com/mtm/setmelanotide.html   \n",
              "\n",
              "                             medical_condition_url  \n",
              "0        https://www.drugs.com/condition/acne.html  \n",
              "1        https://www.drugs.com/condition/acne.html  \n",
              "2        https://www.drugs.com/condition/acne.html  \n",
              "3        https://www.drugs.com/condition/acne.html  \n",
              "4        https://www.drugs.com/condition/acne.html  \n",
              "...                                            ...  \n",
              "2961  https://www.drugs.com/condition/obesity.html  \n",
              "2962  https://www.drugs.com/condition/obesity.html  \n",
              "2963  https://www.drugs.com/condition/obesity.html  \n",
              "2964  https://www.drugs.com/condition/obesity.html  \n",
              "2965  https://www.drugs.com/condition/obesity.html  \n",
              "\n",
              "[2966 rows x 17 columns]"
            ]
          },
          "execution_count": 3,
          "metadata": {},
          "output_type": "execute_result"
        }
      ],
      "source": [
        "df=df.iloc[:,:17]\n",
        "df"
      ]
    },
    {
      "cell_type": "code",
      "execution_count": 4,
      "metadata": {
        "colab": {
          "base_uri": "https://localhost:8080/"
        },
        "id": "SR-0uZAsK5KM",
        "outputId": "3c11322f-8afa-4b8c-b138-2abeb4eaf451"
      },
      "outputs": [
        {
          "data": {
            "text/plain": [
              "(2966, 17)"
            ]
          },
          "execution_count": 4,
          "metadata": {},
          "output_type": "execute_result"
        }
      ],
      "source": [
        "df.shape"
      ]
    },
    {
      "cell_type": "code",
      "execution_count": 5,
      "metadata": {
        "colab": {
          "base_uri": "https://localhost:8080/"
        },
        "id": "MBXTk2fhOzTM",
        "outputId": "070b969e-b7af-4b26-84b8-94e5dccbaaca"
      },
      "outputs": [],
      "source": [
        "#import pandas_profiling\n",
        "# checking for misssing values\n",
        "#df.isnull().sum()"
      ]
    },
    {
      "cell_type": "code",
      "execution_count": 6,
      "metadata": {
        "colab": {
          "base_uri": "https://localhost:8080/",
          "height": 423
        },
        "id": "hdELPSx3Qmrs",
        "outputId": "0d40af96-54ef-49e6-d50d-671a8389d0f3"
      },
      "outputs": [
        {
          "data": {
            "text/html": [
              "<div>\n",
              "<style scoped>\n",
              "    .dataframe tbody tr th:only-of-type {\n",
              "        vertical-align: middle;\n",
              "    }\n",
              "\n",
              "    .dataframe tbody tr th {\n",
              "        vertical-align: top;\n",
              "    }\n",
              "\n",
              "    .dataframe thead th {\n",
              "        text-align: right;\n",
              "    }\n",
              "</style>\n",
              "<table border=\"1\" class=\"dataframe\">\n",
              "  <thead>\n",
              "    <tr style=\"text-align: right;\">\n",
              "      <th></th>\n",
              "      <th>drug_name</th>\n",
              "      <th>medical_condition</th>\n",
              "      <th>generic_name</th>\n",
              "      <th>activity</th>\n",
              "      <th>alcohol</th>\n",
              "      <th>rating</th>\n",
              "      <th>no_of_reviews</th>\n",
              "    </tr>\n",
              "  </thead>\n",
              "  <tbody>\n",
              "    <tr>\n",
              "      <th>0</th>\n",
              "      <td>doxycycline</td>\n",
              "      <td>Acne</td>\n",
              "      <td>doxycycline</td>\n",
              "      <td>87%</td>\n",
              "      <td>X</td>\n",
              "      <td>6.8</td>\n",
              "      <td>760</td>\n",
              "    </tr>\n",
              "    <tr>\n",
              "      <th>1</th>\n",
              "      <td>spironolactone</td>\n",
              "      <td>Acne</td>\n",
              "      <td>spironolactone</td>\n",
              "      <td>82%</td>\n",
              "      <td>X</td>\n",
              "      <td>7.2</td>\n",
              "      <td>449</td>\n",
              "    </tr>\n",
              "    <tr>\n",
              "      <th>2</th>\n",
              "      <td>minocycline</td>\n",
              "      <td>Acne</td>\n",
              "      <td>minocycline</td>\n",
              "      <td>48%</td>\n",
              "      <td>NaN</td>\n",
              "      <td>5.7</td>\n",
              "      <td>482</td>\n",
              "    </tr>\n",
              "    <tr>\n",
              "      <th>3</th>\n",
              "      <td>Accutane</td>\n",
              "      <td>Acne</td>\n",
              "      <td>isotretinoin (oral)</td>\n",
              "      <td>41%</td>\n",
              "      <td>X</td>\n",
              "      <td>7.9</td>\n",
              "      <td>623</td>\n",
              "    </tr>\n",
              "    <tr>\n",
              "      <th>4</th>\n",
              "      <td>clindamycin</td>\n",
              "      <td>Acne</td>\n",
              "      <td>clindamycin topical</td>\n",
              "      <td>39%</td>\n",
              "      <td>NaN</td>\n",
              "      <td>7.4</td>\n",
              "      <td>146</td>\n",
              "    </tr>\n",
              "    <tr>\n",
              "      <th>...</th>\n",
              "      <td>...</td>\n",
              "      <td>...</td>\n",
              "      <td>...</td>\n",
              "      <td>...</td>\n",
              "      <td>...</td>\n",
              "      <td>...</td>\n",
              "      <td>...</td>\n",
              "    </tr>\n",
              "    <tr>\n",
              "      <th>2961</th>\n",
              "      <td>benzphetamine</td>\n",
              "      <td>Weight Loss</td>\n",
              "      <td>benzphetamine</td>\n",
              "      <td>2%</td>\n",
              "      <td>X</td>\n",
              "      <td>7.5</td>\n",
              "      <td>17</td>\n",
              "    </tr>\n",
              "    <tr>\n",
              "      <th>2962</th>\n",
              "      <td>fenfluramine</td>\n",
              "      <td>Weight Loss</td>\n",
              "      <td>fenfluramine</td>\n",
              "      <td>1%</td>\n",
              "      <td>X</td>\n",
              "      <td>NaN</td>\n",
              "      <td>NaN</td>\n",
              "    </tr>\n",
              "    <tr>\n",
              "      <th>2963</th>\n",
              "      <td>Fendique ER</td>\n",
              "      <td>Weight Loss</td>\n",
              "      <td>phendimetrazine tartrate</td>\n",
              "      <td>0%</td>\n",
              "      <td>X</td>\n",
              "      <td>NaN</td>\n",
              "      <td>NaN</td>\n",
              "    </tr>\n",
              "    <tr>\n",
              "      <th>2964</th>\n",
              "      <td>Imcivree</td>\n",
              "      <td>Weight Loss</td>\n",
              "      <td>setmelanotide</td>\n",
              "      <td>0%</td>\n",
              "      <td>NaN</td>\n",
              "      <td>NaN</td>\n",
              "      <td>NaN</td>\n",
              "    </tr>\n",
              "    <tr>\n",
              "      <th>2965</th>\n",
              "      <td>setmelanotide</td>\n",
              "      <td>Weight Loss</td>\n",
              "      <td>setmelanotide</td>\n",
              "      <td>0%</td>\n",
              "      <td>NaN</td>\n",
              "      <td>NaN</td>\n",
              "      <td>NaN</td>\n",
              "    </tr>\n",
              "  </tbody>\n",
              "</table>\n",
              "<p>2966 rows × 7 columns</p>\n",
              "</div>"
            ],
            "text/plain": [
              "           drug_name medical_condition              generic_name activity  \\\n",
              "0        doxycycline              Acne               doxycycline      87%   \n",
              "1     spironolactone              Acne            spironolactone      82%   \n",
              "2        minocycline              Acne               minocycline      48%   \n",
              "3           Accutane              Acne       isotretinoin (oral)      41%   \n",
              "4        clindamycin              Acne       clindamycin topical      39%   \n",
              "...              ...               ...                       ...      ...   \n",
              "2961   benzphetamine       Weight Loss             benzphetamine       2%   \n",
              "2962    fenfluramine       Weight Loss              fenfluramine       1%   \n",
              "2963     Fendique ER       Weight Loss  phendimetrazine tartrate       0%   \n",
              "2964        Imcivree       Weight Loss             setmelanotide       0%   \n",
              "2965   setmelanotide       Weight Loss             setmelanotide       0%   \n",
              "\n",
              "     alcohol rating no_of_reviews  \n",
              "0          X    6.8           760  \n",
              "1          X    7.2           449  \n",
              "2        NaN    5.7           482  \n",
              "3          X    7.9           623  \n",
              "4        NaN    7.4           146  \n",
              "...      ...    ...           ...  \n",
              "2961       X    7.5            17  \n",
              "2962       X    NaN           NaN  \n",
              "2963       X    NaN           NaN  \n",
              "2964     NaN    NaN           NaN  \n",
              "2965     NaN    NaN           NaN  \n",
              "\n",
              "[2966 rows x 7 columns]"
            ]
          },
          "execution_count": 6,
          "metadata": {},
          "output_type": "execute_result"
        }
      ],
      "source": [
        "df = df.drop(columns=['drug_link','medical_condition_url','related_drugs','brand_names','drug_classes','rx_otc','csa','pregnancy_category','side_effects','medical_condition_description'],axis=1)\n",
        "df"
      ]
    },
    {
      "cell_type": "markdown",
      "metadata": {
        "id": "N5Q0fq2KznSY"
      },
      "source": [
        "Alcohol"
      ]
    },
    {
      "cell_type": "code",
      "execution_count": 7,
      "metadata": {
        "id": "QKXTBymuuq2R"
      },
      "outputs": [],
      "source": [
        "plt.show()"
      ]
    },
    {
      "cell_type": "code",
      "execution_count": 8,
      "metadata": {
        "colab": {
          "base_uri": "https://localhost:8080/"
        },
        "id": "cRgcxSLhCzJU",
        "outputId": "6755df8c-e5dc-423f-8903-ee447b6ddda6"
      },
      "outputs": [
        {
          "data": {
            "text/plain": [
              "X                                    1377\n",
              "2021                                   34\n",
              "N=\"\"function\"\"==typeof Uint8Array       1\n",
              "Name: alcohol, dtype: int64"
            ]
          },
          "execution_count": 8,
          "metadata": {},
          "output_type": "execute_result"
        }
      ],
      "source": [
        "df['alcohol'].value_counts()"
      ]
    },
    {
      "cell_type": "code",
      "execution_count": 9,
      "metadata": {
        "id": "SmqocIaFF_nE"
      },
      "outputs": [],
      "source": [
        "df['alcohol'].fillna('2021',inplace = True)"
      ]
    },
    {
      "cell_type": "code",
      "execution_count": 10,
      "metadata": {
        "colab": {
          "base_uri": "https://localhost:8080/"
        },
        "id": "Txm9icS3GyJl",
        "outputId": "3642ebf5-7afb-4e43-bfa7-a3e0b412177a"
      },
      "outputs": [
        {
          "data": {
            "text/plain": [
              "drug_name               1\n",
              "medical_condition       0\n",
              "generic_name           44\n",
              "activity                1\n",
              "alcohol                 0\n",
              "rating               1361\n",
              "no_of_reviews        1361\n",
              "dtype: int64"
            ]
          },
          "execution_count": 10,
          "metadata": {},
          "output_type": "execute_result"
        }
      ],
      "source": [
        "df.isna().sum()"
      ]
    },
    {
      "cell_type": "code",
      "execution_count": 11,
      "metadata": {
        "colab": {
          "base_uri": "https://localhost:8080/"
        },
        "id": "ImMnDLbYBFUg",
        "outputId": "f55c1743-043d-4061-aafc-bf79efc73126"
      },
      "outputs": [
        {
          "name": "stdout",
          "output_type": "stream",
          "text": [
            "2008\n"
          ]
        }
      ],
      "source": [
        "y=0\n",
        "df['alcohol'].value_counts()\n",
        "for i in df['alcohol']:\n",
        "  if i != '2021' and i!='X':\n",
        "    print(y)\n",
        "  y+=1"
      ]
    },
    {
      "cell_type": "code",
      "execution_count": 12,
      "metadata": {
        "id": "Vm1RcxmTGQdH"
      },
      "outputs": [],
      "source": [
        "df.drop([2008],axis=0,inplace=True)"
      ]
    },
    {
      "cell_type": "code",
      "execution_count": 13,
      "metadata": {
        "id": "N71FYB1ip-oc"
      },
      "outputs": [],
      "source": [
        "from sklearn.preprocessing import LabelEncoder\n",
        "le = LabelEncoder()\n",
        "df['alcohol'] = le.fit_transform(df['alcohol'])"
      ]
    },
    {
      "cell_type": "code",
      "execution_count": 14,
      "metadata": {
        "colab": {
          "base_uri": "https://localhost:8080/"
        },
        "id": "_Gg6CkDXqQSW",
        "outputId": "236b0c92-624c-42e4-c2d5-13427d6df0e1"
      },
      "outputs": [
        {
          "data": {
            "text/plain": [
              "0       1\n",
              "1       1\n",
              "2       0\n",
              "3       1\n",
              "4       0\n",
              "       ..\n",
              "2961    1\n",
              "2962    1\n",
              "2963    1\n",
              "2964    0\n",
              "2965    0\n",
              "Name: alcohol, Length: 2965, dtype: int32"
            ]
          },
          "execution_count": 14,
          "metadata": {},
          "output_type": "execute_result"
        }
      ],
      "source": [
        "df['alcohol']"
      ]
    },
    {
      "cell_type": "markdown",
      "metadata": {
        "id": "OoOqyEMzqoIE"
      },
      "source": [
        "### Activity"
      ]
    },
    {
      "cell_type": "code",
      "execution_count": 15,
      "metadata": {
        "colab": {
          "base_uri": "https://localhost:8080/"
        },
        "id": "GbsLf3rhqsz7",
        "outputId": "5741dbc5-8a7d-4005-9ed7-4ce47baa584d"
      },
      "outputs": [
        {
          "data": {
            "text/plain": [
              "array(['87%', '82%', '48%', '41%', '39%', '35%', '30%', '26%', '20%',\n",
              "       '17%', '13%', '12%', '9%', '8%', '7%', '6%', '5%', '4%', '3%',\n",
              "       '2%', '1%', '0%', '100%', '95%', '51%', '40%', '38%', '36%', '32%',\n",
              "       '31%', '27%', '24%', '23%', '16%', '14%', '10%', '97%', '80%',\n",
              "       '71%', '61%', '60%', '57%', '53%', '50%', '37%', '34%', '33%',\n",
              "       '18%', '11%', '83%', '75%', '74%', '54%', '98%', '85%', '84%',\n",
              "       '64%', '19%', '79%', '67%', '42%', '15%', '94%', '78%', '59%',\n",
              "       '55%', '28%', '92%', '88%', '49%', '22%', '96%', '63%', '45%',\n",
              "       '43%', '46%', '25%', '21%', '44%', '47%', '29%', '66%',\n",
              "       ' placebo-controlled Phase2/3 SPECTRA Trial had met its primary and secondary endpoints. Efficacy against severe COVID-19 and hospitalization was 100%',\n",
              "       '99%', '68%', '73%', '72%', '65%', '52%', nan, '58%', '86%', '62%',\n",
              "       '91%', '90%'], dtype=object)"
            ]
          },
          "execution_count": 15,
          "metadata": {},
          "output_type": "execute_result"
        }
      ],
      "source": [
        "df['activity'].unique()"
      ]
    },
    {
      "cell_type": "code",
      "execution_count": 16,
      "metadata": {
        "colab": {
          "base_uri": "https://localhost:8080/"
        },
        "id": "3-u9IbGyrCy1",
        "outputId": "fde4a8e3-21c4-4587-c390-c0ea0a8c987a"
      },
      "outputs": [
        {
          "name": "stdout",
          "output_type": "stream",
          "text": [
            "1116\n",
            "1118\n",
            "1120\n",
            "1122\n",
            "1124\n",
            "1126\n",
            "1128\n",
            "1130\n",
            "1132\n",
            "1134\n",
            "1136\n",
            "1138\n",
            "1140\n",
            "1142\n",
            "1144\n",
            "1146\n",
            "1148\n",
            "1150\n",
            "1152\n",
            "1154\n",
            "1156\n",
            "1158\n",
            "1160\n",
            "1162\n",
            "1164\n",
            "1166\n",
            "1168\n",
            "1170\n",
            "1172\n",
            "1174\n",
            "1176\n",
            "1178\n",
            "1180\n",
            "1182\n"
          ]
        }
      ],
      "source": [
        "y=0\n",
        "df['activity'].value_counts()\n",
        "for i in df['activity']:\n",
        "  if i == ' placebo-controlled Phase2/3 SPECTRA Trial had met its primary and secondary endpoints. Efficacy against severe COVID-19 and hospitalization was 100%':\n",
        "    print(y)\n",
        "  y+=1"
      ]
    },
    {
      "cell_type": "code",
      "execution_count": 17,
      "metadata": {
        "id": "a2nPRURUrh5W"
      },
      "outputs": [],
      "source": [
        "df['activity'] = df['activity'].replace(' placebo-controlled Phase2/3 SPECTRA Trial had met its primary and secondary endpoints. Efficacy against severe COVID-19 and hospitalization was 100%',100)"
      ]
    },
    {
      "cell_type": "code",
      "execution_count": 18,
      "metadata": {
        "id": "TqfGpeYJPsxS"
      },
      "outputs": [],
      "source": [
        "df[\"activity\"] = df[\"activity\"].astype(str)"
      ]
    },
    {
      "cell_type": "code",
      "execution_count": 19,
      "metadata": {
        "colab": {
          "base_uri": "https://localhost:8080/"
        },
        "id": "ac692kFPRFOf",
        "outputId": "4d78d5bc-5919-4628-bdb1-dc1566376811"
      },
      "outputs": [],
      "source": [
        "y=0\n",
        "df['activity'].value_counts()\n",
        "for i in df['activity']:\n",
        "  if i == 'h=function(n){document.body?k(document.body):0<n?l.setTimeout(function(){h(n-1)}':\n",
        "    print(y)\n",
        "  y+=1"
      ]
    },
    {
      "cell_type": "code",
      "execution_count": 20,
      "metadata": {
        "colab": {
          "base_uri": "https://localhost:8080/"
        },
        "id": "A8xV83LDQMfq",
        "outputId": "093d2285-71cf-4116-9b9f-ee6735ceee1b"
      },
      "outputs": [
        {
          "data": {
            "text/plain": [
              "array([87, 82, 48, 41, 39, 35, 30, 26, 20, 17, 13, 12, 9, 8, 7, 6, 5, 4,\n",
              "       3, 2, 1, 0, 100, 95, 51, 40, 38, 36, 32, 31, 27, 24, 23, 16, 14,\n",
              "       10, 97, 80, 71, 61, 60, 57, 53, 50, 37, 34, 33, 18, 11, 83, 75, 74,\n",
              "       54, 98, 85, 84, 64, 19, 79, 67, 42, 15, 94, 78, 59, 55, 28, 92, 88,\n",
              "       49, 22, 96, 63, 45, 43, 46, 25, 21, 44, 47, 29, 66, '100', 99, 68,\n",
              "       73, 72, 65, 52, 'nan', 58, 86, 62, 91, 90], dtype=object)"
            ]
          },
          "execution_count": 20,
          "metadata": {},
          "output_type": "execute_result"
        }
      ],
      "source": [
        "replace_dict = {'87%': 87,'82%': 82,'48%':48,'41%':41,'39%':39,'35%':35,'30%':30,'26%':26,'20%':20,'17%':17,'13%':13,'12%':12,'9%':9,'8%':8,'7%':7,'6%':6,'5%':5,'4%':4,'3%':3,'2%':2,'1%':1,'0%':0,'100%':100,'95%':95,'51%':51,'40%':40,'38%':38,'36%':36,'32%':32,'31%':31,'27%':27,'24%':24,'23%':23,'16%':16,'14%':14,'10%':10,'97%':97,'80%':80,'71%':71,'61%':61,'60%':60,'57%':57,'53%':53,'50%':50,'37%':37,'34%':34,'33%':33,'18%':18,'11%':11,'83%':83,'75%':75,'74%':74,'54%':54,'98%':98,'85%':85,'84%':84,'64%':64,'19%':19,'79%':79,'67%':67,'42%':42,'15%':15,'94%':94,'78%':78,'59%':59,'55%':55,'28%':28,'92%':92,'88%':88,'49%':49,'22%':22,'96%':96,'63%':63,'45%':45,'43%':43,'46%':46,'25%':25,'21%':21,'44%':44,'47%':47,'29%':29,'66%':66,'99%':99,'68%':68,'73%':73,'72%':72,'65%':65,'52%':52,'58%':58,'86%':86,'62%':62,'91%':91,'90%':90,'h=function(n){document.body?k(document.body):0<n?l.setTimeout(function(){h(n-1)}':0,}\n",
        "df[\"activity\"] = df[\"activity\"].replace(replace_dict) \n",
        "df['activity'].unique()"
      ]
    },
    {
      "cell_type": "code",
      "execution_count": 21,
      "metadata": {
        "colab": {
          "base_uri": "https://localhost:8080/"
        },
        "id": "rMBPwdGbrqlb",
        "outputId": "fa5cd2fa-5a92-4e2a-85b5-a279832c5d2c"
      },
      "outputs": [
        {
          "data": {
            "text/plain": [
              "0"
            ]
          },
          "execution_count": 21,
          "metadata": {},
          "output_type": "execute_result"
        }
      ],
      "source": [
        "df['activity'].isnull().sum()"
      ]
    },
    {
      "cell_type": "code",
      "execution_count": 22,
      "metadata": {
        "id": "5PwEM5lLshVb"
      },
      "outputs": [],
      "source": [
        "from sklearn.impute import SimpleImputer\n",
        "imputer = SimpleImputer(missing_values=np.nan, strategy='mean')\n",
        "imputer.fit(df['activity'].values.reshape(-1,1))\n",
        "df['activity'] = imputer.transform(df['activity'].values.reshape(-1,1))"
      ]
    },
    {
      "cell_type": "code",
      "execution_count": 23,
      "metadata": {
        "colab": {
          "base_uri": "https://localhost:8080/"
        },
        "id": "yZWyzs9NPS9F",
        "outputId": "484e158b-9ee5-44ad-81df-af03259f971b"
      },
      "outputs": [
        {
          "data": {
            "text/plain": [
              "array([ 87.        ,  82.        ,  48.        ,  41.        ,\n",
              "        39.        ,  35.        ,  30.        ,  26.        ,\n",
              "        20.        ,  17.        ,  13.        ,  12.        ,\n",
              "         9.        ,   8.        ,   7.        ,   6.        ,\n",
              "         5.        ,   4.        ,   3.        ,   2.        ,\n",
              "         1.        ,   0.        , 100.        ,  95.        ,\n",
              "        51.        ,  40.        ,  38.        ,  36.        ,\n",
              "        32.        ,  31.        ,  27.        ,  24.        ,\n",
              "        23.        ,  16.        ,  14.        ,  10.        ,\n",
              "        97.        ,  80.        ,  71.        ,  61.        ,\n",
              "        60.        ,  57.        ,  53.        ,  50.        ,\n",
              "        37.        ,  34.        ,  33.        ,  18.        ,\n",
              "        11.        ,  83.        ,  75.        ,  74.        ,\n",
              "        54.        ,  98.        ,  85.        ,  84.        ,\n",
              "        64.        ,  19.        ,  79.        ,  67.        ,\n",
              "        42.        ,  15.        ,  94.        ,  78.        ,\n",
              "        59.        ,  55.        ,  28.        ,  92.        ,\n",
              "        88.        ,  49.        ,  22.        ,  96.        ,\n",
              "        63.        ,  45.        ,  43.        ,  46.        ,\n",
              "        25.        ,  21.        ,  44.        ,  47.        ,\n",
              "        29.        ,  66.        ,  99.        ,  68.        ,\n",
              "        73.        ,  72.        ,  65.        ,  52.        ,\n",
              "         9.49055331,  58.        ,  86.        ,  62.        ,\n",
              "        91.        ,  90.        ])"
            ]
          },
          "execution_count": 23,
          "metadata": {},
          "output_type": "execute_result"
        }
      ],
      "source": [
        "df['activity'].unique()"
      ]
    },
    {
      "cell_type": "code",
      "execution_count": 24,
      "metadata": {
        "colab": {
          "base_uri": "https://localhost:8080/"
        },
        "id": "vMQXHP-Zlg5R",
        "outputId": "94400d78-a238-4b50-9f03-fc1b1cd1c6dd"
      },
      "outputs": [
        {
          "data": {
            "text/plain": [
              "drug_name               0\n",
              "medical_condition       0\n",
              "generic_name           44\n",
              "activity                0\n",
              "alcohol                 0\n",
              "rating               1361\n",
              "no_of_reviews        1361\n",
              "dtype: int64"
            ]
          },
          "execution_count": 24,
          "metadata": {},
          "output_type": "execute_result"
        }
      ],
      "source": [
        "df.isna().sum()"
      ]
    },
    {
      "cell_type": "markdown",
      "metadata": {
        "id": "stnwtZk0fToH"
      },
      "source": [
        "### No. Of reviews"
      ]
    },
    {
      "cell_type": "code",
      "execution_count": 25,
      "metadata": {
        "colab": {
          "base_uri": "https://localhost:8080/"
        },
        "id": "Ut7jxbB0fa4Z",
        "outputId": "c28ee45c-7fc6-444e-a015-ca0035ca1eb4"
      },
      "outputs": [
        {
          "data": {
            "text/plain": [
              "array(['760', '449', '482', '623', '146', '8', '439', '999', '96', '86',\n",
              "       '227', '51', '329', '698', '499', '57', '55', '2', '99', '30', '4',\n",
              "       '570', '5', '193', '94', '32', '1', nan, '116', '13', '267', '909',\n",
              "       '76', '27', '35', '252', '274', '115', '10', '33', '3', '9', '54',\n",
              "       '34', '183', '669', '489', '45', '25', '6', '7', '36', '52', '149',\n",
              "       '42', '11', '37', '187', '46', '12', '28', '768', '360', '207',\n",
              "       '382', '799', '73', '21', '833', '478', '93', '894', '160', '194',\n",
              "       '133', '61', '152', '257', '127', '558', '106', '119', '17', '18',\n",
              "       '14', '266', '41', '24', '124', '53', '26', '171', '122', '89',\n",
              "       '103', '19', '120', '58', '107', '60', '213', '181', '64', '66',\n",
              "       '15', '81', '552', '774', '840', '654', '1034', '459', '330',\n",
              "       '899', '520', '1471', '450', '295', '233', '128', '381', '264',\n",
              "       '402', '501', '366', '67', '44', '84', '39', '195', '65', '43',\n",
              "       '600', '634', '383', '332', '328', '334', '681', '346', '655',\n",
              "       '180', '265', '88', '236', '414', '48', '289', '223', '288', '38',\n",
              "       '243', '188', '40', '138', '23', '29', '31', '83', '56', '125',\n",
              "       '109', '307', '113', '311', '189', '22', '85', '16', '182', '960',\n",
              "       '1357', '473', '90', '47', '20', ' double-blinded', '612', '423',\n",
              "       '699', '301', '364', '603', '885', '773', '341', '168', '104',\n",
              "       '126', '586', '92', '91', '136', '130', '108', '102', '63', '49',\n",
              "       '74', '75', '253', '891', '153', '155', '914', '723', '507', '70',\n",
              "       '278', '551', '516', '50', '134', '290', '406', '62', '178', '186',\n",
              "       '448', '601', '170', '174', '254', '154', '162', '95', '77', '140',\n",
              "       '196', '157', '100', '135', '137', '422', '433', '540', '527',\n",
              "       '151', '212', '132', '97', '69', '177', '79', '59', '468', '129',\n",
              "       '80', '543', '1008', '505', '530', '313', '98', '407', '71', '144',\n",
              "       '434', '314', '148', '110', '176', '82', '220', '198', '101',\n",
              "       '242', '275', '185', '574', '163', '217', '230', '337', '145',\n",
              "       '87', '244', '456', '166', '743', '245', '139', '389', '121',\n",
              "       '438', '270', '292', '179', '216', '413', '114', '1242', '2934',\n",
              "       '1939', '363', '112', '150', '556', '1377', '2013', '679'],\n",
              "      dtype=object)"
            ]
          },
          "execution_count": 25,
          "metadata": {},
          "output_type": "execute_result"
        }
      ],
      "source": [
        "df['no_of_reviews'].unique()"
      ]
    },
    {
      "cell_type": "code",
      "execution_count": 26,
      "metadata": {
        "colab": {
          "base_uri": "https://localhost:8080/"
        },
        "id": "NisUzBPEflGp",
        "outputId": "a0429988-6deb-42b2-e727-6be8f72e1a2c"
      },
      "outputs": [
        {
          "name": "stdout",
          "output_type": "stream",
          "text": [
            "1116\n",
            "1118\n",
            "1120\n",
            "1122\n",
            "1124\n",
            "1126\n",
            "1128\n",
            "1130\n",
            "1132\n",
            "1134\n",
            "1136\n",
            "1138\n",
            "1140\n",
            "1142\n",
            "1144\n",
            "1146\n",
            "1148\n",
            "1150\n",
            "1152\n",
            "1154\n",
            "1156\n",
            "1158\n",
            "1160\n",
            "1162\n",
            "1164\n",
            "1166\n",
            "1168\n",
            "1170\n",
            "1172\n",
            "1174\n",
            "1176\n",
            "1178\n",
            "1180\n",
            "1182\n"
          ]
        }
      ],
      "source": [
        "y=0\n",
        "df['no_of_reviews'].value_counts()\n",
        "for i in df['no_of_reviews']:\n",
        "  if i == ' double-blinded':\n",
        "    print(y)\n",
        "  y+=1"
      ]
    },
    {
      "cell_type": "code",
      "execution_count": 27,
      "metadata": {
        "colab": {
          "base_uri": "https://localhost:8080/"
        },
        "id": "wTLlgiYmf3Eo",
        "outputId": "870ee087-ff90-424f-e100-92d0c698349f"
      },
      "outputs": [
        {
          "data": {
            "text/plain": [
              "0       760\n",
              "1       449\n",
              "2       482\n",
              "3       623\n",
              "4       146\n",
              "       ... \n",
              "2961     17\n",
              "2962    NaN\n",
              "2963    NaN\n",
              "2964    NaN\n",
              "2965    NaN\n",
              "Name: no_of_reviews, Length: 2965, dtype: object"
            ]
          },
          "execution_count": 27,
          "metadata": {},
          "output_type": "execute_result"
        }
      ],
      "source": [
        "df['no_of_reviews'] = df['no_of_reviews'].replace(' double-blinded',None)\n",
        "df['no_of_reviews']"
      ]
    },
    {
      "cell_type": "code",
      "execution_count": 28,
      "metadata": {
        "id": "qALBVJ4tgLB3"
      },
      "outputs": [],
      "source": [
        "from sklearn.impute import SimpleImputer\n",
        "imputer = SimpleImputer(missing_values=np.nan, strategy='mean')\n",
        "imputer.fit(df['no_of_reviews'].values.reshape(-1,1))\n",
        "df['no_of_reviews'] = imputer.transform(df['no_of_reviews'].values.reshape(-1,1))"
      ]
    },
    {
      "cell_type": "code",
      "execution_count": 29,
      "metadata": {
        "colab": {
          "base_uri": "https://localhost:8080/"
        },
        "id": "_WrhHHchgUVo",
        "outputId": "91866d76-02a7-4e2f-a124-dfb33f766666"
      },
      "outputs": [
        {
          "data": {
            "text/plain": [
              "0       760.000000\n",
              "1       449.000000\n",
              "2       482.000000\n",
              "3       623.000000\n",
              "4       146.000000\n",
              "           ...    \n",
              "2961     17.000000\n",
              "2962     75.376433\n",
              "2963     75.376433\n",
              "2964     75.376433\n",
              "2965     75.376433\n",
              "Name: no_of_reviews, Length: 2965, dtype: float64"
            ]
          },
          "execution_count": 29,
          "metadata": {},
          "output_type": "execute_result"
        }
      ],
      "source": [
        "df['no_of_reviews']"
      ]
    },
    {
      "cell_type": "markdown",
      "metadata": {
        "id": "BBqCy9K0d_x8"
      },
      "source": [
        "### Rating"
      ]
    },
    {
      "cell_type": "code",
      "execution_count": 30,
      "metadata": {
        "colab": {
          "base_uri": "https://localhost:8080/"
        },
        "id": "Rl3dkbx4ewPR",
        "outputId": "73bbdf86-e77b-4dcb-ffb0-d001e80f3ac1"
      },
      "outputs": [
        {
          "data": {
            "text/plain": [
              "array(['6.8', '7.2', '5.7', '7.9', '7.4', '7.6', '7.7', '8', '8.5', '7.8',\n",
              "       '6', '7.3', '6.3', '8.4', '7.5', '10', '6.9', '8.3', '9', '8.2',\n",
              "       '5', '8.8', nan, '6.7', '7', '6.4', '6.6', '8.7', '8.6', '8.1',\n",
              "       '4.8', '5.4', '9.5', '5.2', '2', '0', '3.8', '7.1', '8.9', '2.6',\n",
              "       '4.4', '6.5', '3.7', '6.1', '9.4', '5.8', '5.1', '5.5', '4.5',\n",
              "       '9.1', '1', '5.9', '4', '9.3', '4.7', '4.6', '4.9', '3.3', '3.9',\n",
              "       '9.7', '6.2', '2.1', '9.8', '5.3', '5.6', '2.5', '4.2', '3.6',\n",
              "       '4.3', '3', '9.2', '2.9', '2.8',\n",
              "       ' with AstraZeneca responsible for development and worldwide manufacturing and distribution. A randomised',\n",
              "       '9.6', '3.2', '1.8', '2.3', '3.1', '3.4', '3.5', '4.1', '1.7',\n",
              "       '2.7', '1.5', '1.1', '9.9', '2.4'], dtype=object)"
            ]
          },
          "execution_count": 30,
          "metadata": {},
          "output_type": "execute_result"
        }
      ],
      "source": [
        "df['rating'].unique()"
      ]
    },
    {
      "cell_type": "code",
      "execution_count": 31,
      "metadata": {
        "colab": {
          "base_uri": "https://localhost:8080/"
        },
        "id": "THaYyu9Xfydv",
        "outputId": "55a0de35-45a8-4e31-beb0-58a0556de64b"
      },
      "outputs": [
        {
          "name": "stdout",
          "output_type": "stream",
          "text": [
            "1116\n",
            "1118\n",
            "1120\n",
            "1122\n",
            "1124\n",
            "1126\n",
            "1128\n",
            "1130\n",
            "1132\n",
            "1134\n",
            "1136\n",
            "1138\n",
            "1140\n",
            "1142\n",
            "1144\n",
            "1146\n",
            "1148\n",
            "1150\n",
            "1152\n",
            "1154\n",
            "1156\n",
            "1158\n",
            "1160\n",
            "1162\n",
            "1164\n",
            "1166\n",
            "1168\n",
            "1170\n",
            "1172\n",
            "1174\n",
            "1176\n",
            "1178\n",
            "1180\n",
            "1182\n"
          ]
        }
      ],
      "source": [
        "y=0\n",
        "df['rating'].value_counts()\n",
        "for i in df['rating']:\n",
        "  if i == ' with AstraZeneca responsible for development and worldwide manufacturing and distribution. A randomised':\n",
        "    print(y)\n",
        "  y+=1"
      ]
    },
    {
      "cell_type": "code",
      "execution_count": 32,
      "metadata": {
        "colab": {
          "base_uri": "https://localhost:8080/"
        },
        "id": "9Ux5JeuMhHv5",
        "outputId": "e18b4b89-6f7d-4fd0-bf91-ad17e2aa3067"
      },
      "outputs": [
        {
          "data": {
            "text/plain": [
              "0       6.8\n",
              "1       7.2\n",
              "2       5.7\n",
              "3       7.9\n",
              "4       7.4\n",
              "       ... \n",
              "2961    7.5\n",
              "2962    NaN\n",
              "2963    NaN\n",
              "2964    NaN\n",
              "2965    NaN\n",
              "Name: rating, Length: 2965, dtype: object"
            ]
          },
          "execution_count": 32,
          "metadata": {},
          "output_type": "execute_result"
        }
      ],
      "source": [
        "df['rating'] = df['rating'].replace(' with AstraZeneca responsible for development and worldwide manufacturing and distribution. A randomised',None)\n",
        "df['rating']"
      ]
    },
    {
      "cell_type": "code",
      "execution_count": 33,
      "metadata": {
        "colab": {
          "base_uri": "https://localhost:8080/"
        },
        "id": "N_lxgHalheYo",
        "outputId": "e72834f3-bd27-48d2-c5f6-a16294001631"
      },
      "outputs": [
        {
          "data": {
            "text/plain": [
              "array(['6.8', '7.2', '5.7', '7.9', '7.4', '7.6', '7.7', '8', '8.5', '7.8',\n",
              "       '6', '7.3', '6.3', '8.4', '7.5', '10', '6.9', '8.3', '9', '8.2',\n",
              "       '5', '8.8', nan, '6.7', '7', '6.4', '6.6', '8.7', '8.6', '8.1',\n",
              "       '4.8', '5.4', '9.5', '5.2', '2', '0', '3.8', '7.1', '8.9', '2.6',\n",
              "       '4.4', '6.5', '3.7', '6.1', '9.4', '5.8', '5.1', '5.5', '4.5',\n",
              "       '9.1', '1', '5.9', '4', '9.3', '4.7', '4.6', '4.9', '3.3', '3.9',\n",
              "       '9.7', '6.2', '2.1', '9.8', '5.3', '5.6', '2.5', '4.2', '3.6',\n",
              "       '4.3', '3', '9.2', '2.9', '2.8', None, '9.6', '3.2', '1.8', '2.3',\n",
              "       '3.1', '3.4', '3.5', '4.1', '1.7', '2.7', '1.5', '1.1', '9.9',\n",
              "       '2.4'], dtype=object)"
            ]
          },
          "execution_count": 33,
          "metadata": {},
          "output_type": "execute_result"
        }
      ],
      "source": [
        "df['rating'].unique()"
      ]
    },
    {
      "cell_type": "code",
      "execution_count": 34,
      "metadata": {
        "id": "32c2gRR7hl_v"
      },
      "outputs": [],
      "source": [
        "df['rating'] = df['rating'].values.reshape(-1,1)"
      ]
    },
    {
      "cell_type": "code",
      "execution_count": 35,
      "metadata": {
        "colab": {
          "base_uri": "https://localhost:8080/"
        },
        "id": "jXECnwaUlDPW",
        "outputId": "eb6fb67c-b119-4c6b-9224-2018875337bb"
      },
      "outputs": [
        {
          "data": {
            "text/plain": [
              "(2965,)"
            ]
          },
          "execution_count": 35,
          "metadata": {},
          "output_type": "execute_result"
        }
      ],
      "source": [
        "df['rating'].shape"
      ]
    },
    {
      "cell_type": "code",
      "execution_count": 36,
      "metadata": {
        "id": "fIHv1a5ceOHP"
      },
      "outputs": [],
      "source": [
        "from sklearn.impute import SimpleImputer\n",
        "imputer = SimpleImputer(missing_values=np.nan, strategy='mean')\n",
        "imputer.fit(df['rating'].values.reshape(-1,1))\n",
        "df['rating'] = imputer.transform(df['rating'].values.reshape(-1,1))"
      ]
    },
    {
      "cell_type": "code",
      "execution_count": 37,
      "metadata": {
        "colab": {
          "base_uri": "https://localhost:8080/"
        },
        "id": "MLlNWJ2rinN_",
        "outputId": "48d94ab6-9654-4672-f02a-51c463ef6107"
      },
      "outputs": [
        {
          "data": {
            "text/plain": [
              "0"
            ]
          },
          "execution_count": 37,
          "metadata": {},
          "output_type": "execute_result"
        }
      ],
      "source": [
        "df['rating'].isnull().sum()"
      ]
    },
    {
      "cell_type": "markdown",
      "metadata": {
        "id": "PMb071LgzVJU"
      },
      "source": [
        "Medical_condition"
      ]
    },
    {
      "cell_type": "code",
      "execution_count": 38,
      "metadata": {
        "id": "dVAvHkkbnR8e"
      },
      "outputs": [],
      "source": [
        "#df.dropna(subset=['medical_condition'], inplace=True)"
      ]
    },
    {
      "cell_type": "code",
      "execution_count": 39,
      "metadata": {
        "id": "68J_G2FGoIlu"
      },
      "outputs": [],
      "source": [
        "#one_hot = pd.get_dummies(df['medical_condition'])\n",
        "#df = pd.concat([df, one_hot], axis=1)\n",
        "#print(df['medical_condition'])"
      ]
    },
    {
      "cell_type": "code",
      "execution_count": 40,
      "metadata": {
        "id": "PBK96AZgowek"
      },
      "outputs": [],
      "source": [
        "#df.drop('medical_condition', axis=1,inplace=True)"
      ]
    },
    {
      "cell_type": "code",
      "execution_count": 41,
      "metadata": {
        "id": "2TJs0pwvovJr"
      },
      "outputs": [],
      "source": [
        "#from sklearn.compose import ColumnTransformer\n",
        "#from sklearn.preprocessing import OneHotEncoder\n",
        "#ct = ColumnTransformer(transformers=[('encoder', OneHotEncoder(), [0])], remainder='passthrough')\n",
        "#df['medical_condition'] = pd.get_dummies(df['medical_condition'])\n",
        "#df['medical_condition'] = np.array(ct.fit_transform(df['medical_condition']))"
      ]
    },
    {
      "cell_type": "code",
      "execution_count": 42,
      "metadata": {
        "id": "swvcPbJ4v6l9"
      },
      "outputs": [],
      "source": [
        "# df['medical_condition'] = np.array(df['medical_condition'])\n",
        "# df['medical_condition']"
      ]
    },
    {
      "cell_type": "code",
      "execution_count": 43,
      "metadata": {
        "colab": {
          "base_uri": "https://localhost:8080/"
        },
        "id": "dnj1SH0bvue3",
        "outputId": "8922b5d5-414f-4ac7-e62e-0c0e1c663d86"
      },
      "outputs": [
        {
          "data": {
            "text/plain": [
              "array(['doxycycline', 'spironolactone', 'minocycline', ..., 'Fendique ER',\n",
              "       'Imcivree', 'setmelanotide'], dtype=object)"
            ]
          },
          "execution_count": 43,
          "metadata": {},
          "output_type": "execute_result"
        }
      ],
      "source": [
        "df['drug_name'].unique()"
      ]
    },
    {
      "cell_type": "markdown",
      "metadata": {
        "id": "Jd1kEx1nzsCm"
      },
      "source": [
        "Drug_name"
      ]
    },
    {
      "cell_type": "code",
      "execution_count": 44,
      "metadata": {
        "colab": {
          "base_uri": "https://localhost:8080/"
        },
        "id": "HX1Z7DUHs19G",
        "outputId": "bcafa2df-ab40-48ff-8a94-95b782c05442"
      },
      "outputs": [
        {
          "data": {
            "text/plain": [
              "0"
            ]
          },
          "execution_count": 44,
          "metadata": {},
          "output_type": "execute_result"
        }
      ],
      "source": [
        "df['generic_name'].fillna(' ',inplace = True)\n",
        "df['generic_name'].isnull().sum()"
      ]
    },
    {
      "cell_type": "code",
      "execution_count": 45,
      "metadata": {
        "colab": {
          "base_uri": "https://localhost:8080/"
        },
        "id": "5tWAzKi3tOHb",
        "outputId": "d025236a-9756-4d18-ee6e-bb261e30de1f"
      },
      "outputs": [
        {
          "data": {
            "text/plain": [
              "0"
            ]
          },
          "execution_count": 45,
          "metadata": {},
          "output_type": "execute_result"
        }
      ],
      "source": [
        "df['drug_name'].fillna(' ',inplace = True)\n",
        "df['drug_name'].isnull().sum()"
      ]
    },
    {
      "cell_type": "code",
      "execution_count": 46,
      "metadata": {
        "colab": {
          "base_uri": "https://localhost:8080/"
        },
        "id": "KuJZbRrsyFNx",
        "outputId": "0c4a9be6-4c13-49bf-9067-2c2348aaaa77"
      },
      "outputs": [
        {
          "data": {
            "text/plain": [
              "0"
            ]
          },
          "execution_count": 46,
          "metadata": {},
          "output_type": "execute_result"
        }
      ],
      "source": [
        "df['Drug'] = df['generic_name'] + \" \"+ df['drug_name']\n",
        "df['Drug'].isnull().sum()"
      ]
    },
    {
      "cell_type": "code",
      "execution_count": 47,
      "metadata": {
        "colab": {
          "base_uri": "https://localhost:8080/"
        },
        "id": "kWU-056rc-4V",
        "outputId": "50925a12-6450-4f21-8266-5e7856f4e5dd"
      },
      "outputs": [
        {
          "data": {
            "text/plain": [
              "array(['doxycycline doxycycline', 'spironolactone spironolactone',\n",
              "       'minocycline minocycline', ...,\n",
              "       'phendimetrazine tartrate Fendique ER', 'setmelanotide Imcivree',\n",
              "       'setmelanotide setmelanotide'], dtype=object)"
            ]
          },
          "execution_count": 47,
          "metadata": {},
          "output_type": "execute_result"
        }
      ],
      "source": [
        "df['Drug'].unique()"
      ]
    },
    {
      "cell_type": "code",
      "execution_count": 48,
      "metadata": {
        "colab": {
          "base_uri": "https://localhost:8080/"
        },
        "id": "moiibsZHn6oO",
        "outputId": "7d99154f-01a4-4d1f-b7e3-a336269b1281"
      },
      "outputs": [
        {
          "name": "stdout",
          "output_type": "stream",
          "text": [
            "<class 'pandas.core.frame.DataFrame'>\n",
            "Int64Index: 2965 entries, 0 to 2965\n",
            "Data columns (total 8 columns):\n",
            " #   Column             Non-Null Count  Dtype  \n",
            "---  ------             --------------  -----  \n",
            " 0   drug_name          2965 non-null   object \n",
            " 1   medical_condition  2965 non-null   object \n",
            " 2   generic_name       2965 non-null   object \n",
            " 3   activity           2965 non-null   float64\n",
            " 4   alcohol            2965 non-null   int32  \n",
            " 5   rating             2965 non-null   float64\n",
            " 6   no_of_reviews      2965 non-null   float64\n",
            " 7   Drug               2965 non-null   object \n",
            "dtypes: float64(3), int32(1), object(4)\n",
            "memory usage: 196.9+ KB\n"
          ]
        }
      ],
      "source": [
        "df.info()"
      ]
    },
    {
      "cell_type": "code",
      "execution_count": 49,
      "metadata": {
        "id": "FhT-rEIfHjUJ"
      },
      "outputs": [],
      "source": [
        "df.drop(['drug_name', 'generic_name'], axis=1, inplace=True)"
      ]
    },
    {
      "cell_type": "code",
      "execution_count": 50,
      "metadata": {
        "colab": {
          "base_uri": "https://localhost:8080/"
        },
        "id": "v8h9fVhBoDyg",
        "outputId": "a8c1e19f-8545-48b7-f8de-587e64e0797c"
      },
      "outputs": [
        {
          "name": "stdout",
          "output_type": "stream",
          "text": [
            "<class 'pandas.core.frame.DataFrame'>\n",
            "Int64Index: 2965 entries, 0 to 2965\n",
            "Data columns (total 6 columns):\n",
            " #   Column             Non-Null Count  Dtype  \n",
            "---  ------             --------------  -----  \n",
            " 0   medical_condition  2965 non-null   object \n",
            " 1   activity           2965 non-null   float64\n",
            " 2   alcohol            2965 non-null   int32  \n",
            " 3   rating             2965 non-null   float64\n",
            " 4   no_of_reviews      2965 non-null   float64\n",
            " 5   Drug               2965 non-null   object \n",
            "dtypes: float64(3), int32(1), object(2)\n",
            "memory usage: 150.6+ KB\n"
          ]
        }
      ],
      "source": [
        "df.info()"
      ]
    },
    {
      "cell_type": "code",
      "execution_count": 51,
      "metadata": {
        "colab": {
          "base_uri": "https://localhost:8080/"
        },
        "id": "fQas9ZBOt_ky",
        "outputId": "e45e5e3e-d1db-4d16-aad0-22f2227c1ec8"
      },
      "outputs": [
        {
          "data": {
            "text/plain": [
              "(2965,)"
            ]
          },
          "execution_count": 51,
          "metadata": {},
          "output_type": "execute_result"
        }
      ],
      "source": [
        "df['Drug'].shape"
      ]
    },
    {
      "cell_type": "code",
      "execution_count": 52,
      "metadata": {
        "id": "181DPx6s9q5k"
      },
      "outputs": [],
      "source": [
        "y = df['Drug']"
      ]
    },
    {
      "cell_type": "code",
      "execution_count": 53,
      "metadata": {
        "id": "CKBaZ0dp9xKX"
      },
      "outputs": [],
      "source": [
        "df.drop('Drug',axis =1, inplace = True )"
      ]
    },
    {
      "cell_type": "code",
      "execution_count": 54,
      "metadata": {
        "id": "ebSX5yueyV9w"
      },
      "outputs": [],
      "source": [
        "for label, content in df.items():\n",
        "    if pd.api.types.is_numeric_dtype(content):\n",
        "      if pd.isnull(content).sum():\n",
        "        df[label]= content.fillna(content.mean())"
      ]
    },
    {
      "cell_type": "code",
      "execution_count": 55,
      "metadata": {
        "id": "AH4pkJtN7yCe"
      },
      "outputs": [],
      "source": [
        "num_labels=[]"
      ]
    },
    {
      "cell_type": "code",
      "execution_count": 56,
      "metadata": {
        "id": "0heBHYo_7zCH"
      },
      "outputs": [],
      "source": [
        "for label, content in df.items():\n",
        "    if pd.api.types.is_numeric_dtype(content):\n",
        "      num_labels.append(label)"
      ]
    },
    {
      "cell_type": "code",
      "execution_count": 57,
      "metadata": {
        "id": "NYsJY5wT8fO-"
      },
      "outputs": [],
      "source": [
        "others = list(df.columns)"
      ]
    },
    {
      "cell_type": "code",
      "execution_count": 58,
      "metadata": {
        "id": "ZCpAmjPs8zO4"
      },
      "outputs": [],
      "source": [
        "for i in num_labels:\n",
        "  others.remove(i)"
      ]
    },
    {
      "cell_type": "code",
      "execution_count": 59,
      "metadata": {
        "colab": {
          "base_uri": "https://localhost:8080/"
        },
        "id": "sMiRQsaDx6N4",
        "outputId": "4f167624-6342-4be5-d56a-678f54e33553"
      },
      "outputs": [
        {
          "data": {
            "text/plain": [
              "medical_condition    0\n",
              "activity             0\n",
              "alcohol              0\n",
              "rating               0\n",
              "no_of_reviews        0\n",
              "dtype: int64"
            ]
          },
          "execution_count": 59,
          "metadata": {},
          "output_type": "execute_result"
        }
      ],
      "source": [
        "df.isnull().sum()"
      ]
    },
    {
      "cell_type": "code",
      "execution_count": 60,
      "metadata": {
        "colab": {
          "base_uri": "https://localhost:8080/"
        },
        "id": "oAsZ-smgoSGq",
        "outputId": "69fc5712-0196-49f5-c0e6-1c4e7b0deaf2"
      },
      "outputs": [
        {
          "name": "stdout",
          "output_type": "stream",
          "text": [
            "<class 'pandas.core.frame.DataFrame'>\n",
            "Int64Index: 2965 entries, 0 to 2965\n",
            "Data columns (total 5 columns):\n",
            " #   Column             Non-Null Count  Dtype  \n",
            "---  ------             --------------  -----  \n",
            " 0   medical_condition  2965 non-null   object \n",
            " 1   activity           2965 non-null   float64\n",
            " 2   alcohol            2965 non-null   int32  \n",
            " 3   rating             2965 non-null   float64\n",
            " 4   no_of_reviews      2965 non-null   float64\n",
            "dtypes: float64(3), int32(1), object(1)\n",
            "memory usage: 127.4+ KB\n"
          ]
        }
      ],
      "source": [
        "df.info()"
      ]
    },
    {
      "cell_type": "code",
      "execution_count": 61,
      "metadata": {
        "id": "V9Az1pntU-i6"
      },
      "outputs": [],
      "source": [
        "#df.drop(['medical_condition'], axis=1, inplace=True)"
      ]
    },
    {
      "cell_type": "code",
      "execution_count": 62,
      "metadata": {
        "colab": {
          "base_uri": "https://localhost:8080/"
        },
        "id": "feCXLsLvyER4",
        "outputId": "89321009-9b15-4141-a741-bf90cffe9210"
      },
      "outputs": [
        {
          "data": {
            "text/plain": [
              "0                    doxycycline doxycycline\n",
              "1              spironolactone spironolactone\n",
              "2                    minocycline minocycline\n",
              "3               isotretinoin (oral) Accutane\n",
              "4            clindamycin topical clindamycin\n",
              "                        ...                 \n",
              "2961             benzphetamine benzphetamine\n",
              "2962               fenfluramine fenfluramine\n",
              "2963    phendimetrazine tartrate Fendique ER\n",
              "2964                  setmelanotide Imcivree\n",
              "2965             setmelanotide setmelanotide\n",
              "Name: Drug, Length: 2965, dtype: object"
            ]
          },
          "execution_count": 62,
          "metadata": {},
          "output_type": "execute_result"
        }
      ],
      "source": [
        "y"
      ]
    },
    {
      "cell_type": "code",
      "execution_count": 63,
      "metadata": {
        "id": "w7dPJFcJx-cX"
      },
      "outputs": [],
      "source": [
        "from sklearn.compose import make_column_transformer\n",
        "from sklearn.preprocessing import MinMaxScaler, OneHotEncoder\n",
        "ct = make_column_transformer(\n",
        "    (MinMaxScaler(), num_labels),\n",
        "    (OneHotEncoder(handle_unknown='ignore'),others))"
      ]
    },
    {
      "cell_type": "code",
      "execution_count": 64,
      "metadata": {
        "colab": {
          "base_uri": "https://localhost:8080/"
        },
        "id": "s_OgP5Jj1kVC",
        "outputId": "4c37a886-1260-470b-c51d-1cf91bc40815"
      },
      "outputs": [
        {
          "data": {
            "text/plain": [
              "medical_condition    0\n",
              "activity             0\n",
              "alcohol              0\n",
              "rating               0\n",
              "no_of_reviews        0\n",
              "dtype: int64"
            ]
          },
          "execution_count": 64,
          "metadata": {},
          "output_type": "execute_result"
        }
      ],
      "source": [
        "df.isnull().sum()"
      ]
    },
    {
      "cell_type": "code",
      "execution_count": 65,
      "metadata": {
        "id": "xg5IIOt5-lT-"
      },
      "outputs": [],
      "source": [
        "from sklearn.model_selection import train_test_split\n",
        "X_train, X_test, y_train, y_test = train_test_split(df, y, test_size = 0.2, random_state = 1)"
      ]
    },
    {
      "cell_type": "code",
      "execution_count": 66,
      "metadata": {
        "colab": {
          "base_uri": "https://localhost:8080/"
        },
        "id": "4kuR93AbHUkd",
        "outputId": "9f704ebb-6731-4856-d018-ad73e0897c8c"
      },
      "outputs": [
        {
          "data": {
            "text/plain": [
              "Index(['medical_condition', 'activity', 'alcohol', 'rating', 'no_of_reviews'], dtype='object')"
            ]
          },
          "execution_count": 66,
          "metadata": {},
          "output_type": "execute_result"
        }
      ],
      "source": [
        "X_train.columns"
      ]
    },
    {
      "cell_type": "code",
      "execution_count": 67,
      "metadata": {
        "colab": {
          "base_uri": "https://localhost:8080/"
        },
        "id": "xsBzS2hLHYbb",
        "outputId": "025f207d-a26b-4a6a-a828-0e519e8ad5ca"
      },
      "outputs": [
        {
          "data": {
            "text/plain": [
              "Index(['medical_condition', 'activity', 'alcohol', 'rating', 'no_of_reviews'], dtype='object')"
            ]
          },
          "execution_count": 67,
          "metadata": {},
          "output_type": "execute_result"
        }
      ],
      "source": [
        "df.columns"
      ]
    },
    {
      "cell_type": "code",
      "execution_count": 68,
      "metadata": {
        "colab": {
          "base_uri": "https://localhost:8080/"
        },
        "id": "nk6JTvH2-uvQ",
        "outputId": "e8cb1d40-06eb-4b41-ed97-4d079db9b6a6"
      },
      "outputs": [
        {
          "data": {
            "text/html": [
              "<style>#sk-container-id-1 {color: black;background-color: white;}#sk-container-id-1 pre{padding: 0;}#sk-container-id-1 div.sk-toggleable {background-color: white;}#sk-container-id-1 label.sk-toggleable__label {cursor: pointer;display: block;width: 100%;margin-bottom: 0;padding: 0.3em;box-sizing: border-box;text-align: center;}#sk-container-id-1 label.sk-toggleable__label-arrow:before {content: \"▸\";float: left;margin-right: 0.25em;color: #696969;}#sk-container-id-1 label.sk-toggleable__label-arrow:hover:before {color: black;}#sk-container-id-1 div.sk-estimator:hover label.sk-toggleable__label-arrow:before {color: black;}#sk-container-id-1 div.sk-toggleable__content {max-height: 0;max-width: 0;overflow: hidden;text-align: left;background-color: #f0f8ff;}#sk-container-id-1 div.sk-toggleable__content pre {margin: 0.2em;color: black;border-radius: 0.25em;background-color: #f0f8ff;}#sk-container-id-1 input.sk-toggleable__control:checked~div.sk-toggleable__content {max-height: 200px;max-width: 100%;overflow: auto;}#sk-container-id-1 input.sk-toggleable__control:checked~label.sk-toggleable__label-arrow:before {content: \"▾\";}#sk-container-id-1 div.sk-estimator input.sk-toggleable__control:checked~label.sk-toggleable__label {background-color: #d4ebff;}#sk-container-id-1 div.sk-label input.sk-toggleable__control:checked~label.sk-toggleable__label {background-color: #d4ebff;}#sk-container-id-1 input.sk-hidden--visually {border: 0;clip: rect(1px 1px 1px 1px);clip: rect(1px, 1px, 1px, 1px);height: 1px;margin: -1px;overflow: hidden;padding: 0;position: absolute;width: 1px;}#sk-container-id-1 div.sk-estimator {font-family: monospace;background-color: #f0f8ff;border: 1px dotted black;border-radius: 0.25em;box-sizing: border-box;margin-bottom: 0.5em;}#sk-container-id-1 div.sk-estimator:hover {background-color: #d4ebff;}#sk-container-id-1 div.sk-parallel-item::after {content: \"\";width: 100%;border-bottom: 1px solid gray;flex-grow: 1;}#sk-container-id-1 div.sk-label:hover label.sk-toggleable__label {background-color: #d4ebff;}#sk-container-id-1 div.sk-serial::before {content: \"\";position: absolute;border-left: 1px solid gray;box-sizing: border-box;top: 0;bottom: 0;left: 50%;z-index: 0;}#sk-container-id-1 div.sk-serial {display: flex;flex-direction: column;align-items: center;background-color: white;padding-right: 0.2em;padding-left: 0.2em;position: relative;}#sk-container-id-1 div.sk-item {position: relative;z-index: 1;}#sk-container-id-1 div.sk-parallel {display: flex;align-items: stretch;justify-content: center;background-color: white;position: relative;}#sk-container-id-1 div.sk-item::before, #sk-container-id-1 div.sk-parallel-item::before {content: \"\";position: absolute;border-left: 1px solid gray;box-sizing: border-box;top: 0;bottom: 0;left: 50%;z-index: -1;}#sk-container-id-1 div.sk-parallel-item {display: flex;flex-direction: column;z-index: 1;position: relative;background-color: white;}#sk-container-id-1 div.sk-parallel-item:first-child::after {align-self: flex-end;width: 50%;}#sk-container-id-1 div.sk-parallel-item:last-child::after {align-self: flex-start;width: 50%;}#sk-container-id-1 div.sk-parallel-item:only-child::after {width: 0;}#sk-container-id-1 div.sk-dashed-wrapped {border: 1px dashed gray;margin: 0 0.4em 0.5em 0.4em;box-sizing: border-box;padding-bottom: 0.4em;background-color: white;}#sk-container-id-1 div.sk-label label {font-family: monospace;font-weight: bold;display: inline-block;line-height: 1.2em;}#sk-container-id-1 div.sk-label-container {text-align: center;}#sk-container-id-1 div.sk-container {/* jupyter's `normalize.less` sets `[hidden] { display: none; }` but bootstrap.min.css set `[hidden] { display: none !important; }` so we also need the `!important` here to be able to override the default hidden behavior on the sphinx rendered scikit-learn.org. See: https://github.com/scikit-learn/scikit-learn/issues/21755 */display: inline-block !important;position: relative;}#sk-container-id-1 div.sk-text-repr-fallback {display: none;}</style><div id=\"sk-container-id-1\" class=\"sk-top-container\"><div class=\"sk-text-repr-fallback\"><pre>ColumnTransformer(transformers=[(&#x27;minmaxscaler&#x27;, MinMaxScaler(),\n",
              "                                 [&#x27;activity&#x27;, &#x27;alcohol&#x27;, &#x27;rating&#x27;,\n",
              "                                  &#x27;no_of_reviews&#x27;]),\n",
              "                                (&#x27;onehotencoder&#x27;,\n",
              "                                 OneHotEncoder(handle_unknown=&#x27;ignore&#x27;),\n",
              "                                 [&#x27;medical_condition&#x27;])])</pre><b>In a Jupyter environment, please rerun this cell to show the HTML representation or trust the notebook. <br />On GitHub, the HTML representation is unable to render, please try loading this page with nbviewer.org.</b></div><div class=\"sk-container\" hidden><div class=\"sk-item sk-dashed-wrapped\"><div class=\"sk-label-container\"><div class=\"sk-label sk-toggleable\"><input class=\"sk-toggleable__control sk-hidden--visually\" id=\"sk-estimator-id-1\" type=\"checkbox\" ><label for=\"sk-estimator-id-1\" class=\"sk-toggleable__label sk-toggleable__label-arrow\">ColumnTransformer</label><div class=\"sk-toggleable__content\"><pre>ColumnTransformer(transformers=[(&#x27;minmaxscaler&#x27;, MinMaxScaler(),\n",
              "                                 [&#x27;activity&#x27;, &#x27;alcohol&#x27;, &#x27;rating&#x27;,\n",
              "                                  &#x27;no_of_reviews&#x27;]),\n",
              "                                (&#x27;onehotencoder&#x27;,\n",
              "                                 OneHotEncoder(handle_unknown=&#x27;ignore&#x27;),\n",
              "                                 [&#x27;medical_condition&#x27;])])</pre></div></div></div><div class=\"sk-parallel\"><div class=\"sk-parallel-item\"><div class=\"sk-item\"><div class=\"sk-label-container\"><div class=\"sk-label sk-toggleable\"><input class=\"sk-toggleable__control sk-hidden--visually\" id=\"sk-estimator-id-2\" type=\"checkbox\" ><label for=\"sk-estimator-id-2\" class=\"sk-toggleable__label sk-toggleable__label-arrow\">minmaxscaler</label><div class=\"sk-toggleable__content\"><pre>[&#x27;activity&#x27;, &#x27;alcohol&#x27;, &#x27;rating&#x27;, &#x27;no_of_reviews&#x27;]</pre></div></div></div><div class=\"sk-serial\"><div class=\"sk-item\"><div class=\"sk-estimator sk-toggleable\"><input class=\"sk-toggleable__control sk-hidden--visually\" id=\"sk-estimator-id-3\" type=\"checkbox\" ><label for=\"sk-estimator-id-3\" class=\"sk-toggleable__label sk-toggleable__label-arrow\">MinMaxScaler</label><div class=\"sk-toggleable__content\"><pre>MinMaxScaler()</pre></div></div></div></div></div></div><div class=\"sk-parallel-item\"><div class=\"sk-item\"><div class=\"sk-label-container\"><div class=\"sk-label sk-toggleable\"><input class=\"sk-toggleable__control sk-hidden--visually\" id=\"sk-estimator-id-4\" type=\"checkbox\" ><label for=\"sk-estimator-id-4\" class=\"sk-toggleable__label sk-toggleable__label-arrow\">onehotencoder</label><div class=\"sk-toggleable__content\"><pre>[&#x27;medical_condition&#x27;]</pre></div></div></div><div class=\"sk-serial\"><div class=\"sk-item\"><div class=\"sk-estimator sk-toggleable\"><input class=\"sk-toggleable__control sk-hidden--visually\" id=\"sk-estimator-id-5\" type=\"checkbox\" ><label for=\"sk-estimator-id-5\" class=\"sk-toggleable__label sk-toggleable__label-arrow\">OneHotEncoder</label><div class=\"sk-toggleable__content\"><pre>OneHotEncoder(handle_unknown=&#x27;ignore&#x27;)</pre></div></div></div></div></div></div></div></div></div></div>"
            ],
            "text/plain": [
              "ColumnTransformer(transformers=[('minmaxscaler', MinMaxScaler(),\n",
              "                                 ['activity', 'alcohol', 'rating',\n",
              "                                  'no_of_reviews']),\n",
              "                                ('onehotencoder',\n",
              "                                 OneHotEncoder(handle_unknown='ignore'),\n",
              "                                 ['medical_condition'])])"
            ]
          },
          "execution_count": 68,
          "metadata": {},
          "output_type": "execute_result"
        }
      ],
      "source": [
        "ct.fit(X_train)"
      ]
    },
    {
      "cell_type": "code",
      "execution_count": 69,
      "metadata": {
        "id": "aIxaqcdy-6ad"
      },
      "outputs": [],
      "source": [
        "x_train = ct.transform(X_train)"
      ]
    },
    {
      "cell_type": "code",
      "execution_count": 70,
      "metadata": {
        "id": "589mOIUnuVLU"
      },
      "outputs": [],
      "source": [
        "x_test = ct.transform(X_test)"
      ]
    },
    {
      "cell_type": "code",
      "execution_count": 71,
      "metadata": {
        "colab": {
          "base_uri": "https://localhost:8080/"
        },
        "id": "ynqg-PWI-_SZ",
        "outputId": "cb0124ea-00cf-431d-872c-b87ee9d165a1"
      },
      "outputs": [
        {
          "data": {
            "text/plain": [
              "<2372x52 sparse matrix of type '<class 'numpy.float64'>'\n",
              "\twith 9647 stored elements in Compressed Sparse Row format>"
            ]
          },
          "execution_count": 71,
          "metadata": {},
          "output_type": "execute_result"
        }
      ],
      "source": [
        "x_train"
      ]
    },
    {
      "cell_type": "code",
      "execution_count": 72,
      "metadata": {
        "colab": {
          "base_uri": "https://localhost:8080/"
        },
        "id": "tmWH7X-xIG25",
        "outputId": "7d0e20af-0ff9-48ab-d4eb-9759920c09d8"
      },
      "outputs": [
        {
          "data": {
            "text/plain": [
              "2407             ibuprofen (oral route) Children's Motrin\n",
              "557                       trifluoperazine trifluoperazine\n",
              "1039                      magnesium oxide magnesium oxide\n",
              "561                                 prednisone prednisone\n",
              "2365                 acetaminophen and oxycodone Percocet\n",
              "                              ...                        \n",
              "2764            infliximab-qbtx (intravenous route) Ixifi\n",
              "905     Dexbrompheniramine and Acetaminophen Caplets D...\n",
              "1096    budesonide and formoterol (inhalation) budeson...\n",
              "235     benzoyl peroxide and clindamycin topical Z-Cli...\n",
              "1061                            Magnesium Oxide Mag-Oxide\n",
              "Name: Drug, Length: 2372, dtype: object"
            ]
          },
          "execution_count": 72,
          "metadata": {},
          "output_type": "execute_result"
        }
      ],
      "source": [
        "y_train"
      ]
    },
    {
      "cell_type": "markdown",
      "metadata": {
        "id": "QWJuBpOpd-oh"
      },
      "source": [
        "## Random Forest Classification"
      ]
    },
    {
      "cell_type": "code",
      "execution_count": 73,
      "metadata": {
        "colab": {
          "base_uri": "https://localhost:8080/"
        },
        "id": "ufnrqpggdTfN",
        "outputId": "ea8835b2-8fbb-484a-9222-d5b2668cda6e"
      },
      "outputs": [
        {
          "data": {
            "text/plain": [
              "0.6235244519392917"
            ]
          },
          "execution_count": 73,
          "metadata": {},
          "output_type": "execute_result"
        }
      ],
      "source": [
        "# Training the Random Forest Classification model on the Training set\n",
        "from sklearn.ensemble import RandomForestClassifier\n",
        "from sklearn.metrics import accuracy_score\n",
        "classifier = RandomForestClassifier(n_estimators = 100, criterion = 'entropy', random_state = 42,max_features='log2')\n",
        "classifier.fit(x_train, y_train)\n",
        "y_train1=classifier.predict(x_train)\n",
        "accuracy_score(y_train, y_train1)\n",
        "\n",
        "# # Making the Confusion Matrix\n",
        "# y_pred = classifier.predict(x_test)\n",
        "# cm = confusion_matrix(y_test, y_pred)\n",
        "# print(cm)\n",
        "# accuracy_score(y_test, y_pred)"
      ]
    },
    {
      "cell_type": "markdown",
      "metadata": {
        "id": "OENRVtrvyDY5"
      },
      "source": [
        "# Logistic Classification"
      ]
    },
    {
      "cell_type": "code",
      "execution_count": 74,
      "metadata": {
        "colab": {
          "base_uri": "https://localhost:8080/"
        },
        "id": "P13fMrMhqgcK",
        "outputId": "9ae21ddb-06f5-4b5d-ad24-4218c207142b"
      },
      "outputs": [
        {
          "data": {
            "text/plain": [
              "0.050590219224283306"
            ]
          },
          "execution_count": 74,
          "metadata": {},
          "output_type": "execute_result"
        }
      ],
      "source": [
        "# Training the Random Forest Classification model on the Training set\n",
        "from sklearn.linear_model import LogisticRegression\n",
        "classifier = LogisticRegression()\n",
        "classifier.fit(x_train, y_train)\n",
        "y_train1=classifier.predict(x_train)\n",
        "accuracy_score(y_train,y_train1)"
      ]
    }
  ],
  "metadata": {
    "accelerator": "GPU",
    "colab": {
      "provenance": []
    },
    "gpuClass": "standard",
    "kernelspec": {
      "display_name": "Python 3.10.1 64-bit",
      "language": "python",
      "name": "python3"
    },
    "language_info": {
      "codemirror_mode": {
        "name": "ipython",
        "version": 3
      },
      "file_extension": ".py",
      "mimetype": "text/x-python",
      "name": "python",
      "nbconvert_exporter": "python",
      "pygments_lexer": "ipython3",
      "version": "3.10.1"
    },
    "vscode": {
      "interpreter": {
        "hash": "27f6fea6f47ae512550f0b8facdbd035a93e1dd89633f7bf2dd00a2502c71d0d"
      }
    }
  },
  "nbformat": 4,
  "nbformat_minor": 0
}
